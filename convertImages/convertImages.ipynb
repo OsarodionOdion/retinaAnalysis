{
 "cells": [
  {
   "cell_type": "markdown",
   "id": "8e1df35a-6854-45e4-adc3-c58dc7cfbfb4",
   "metadata": {},
   "source": [
    "# Retina Analysis Data Prep\n",
    "\n",
    "__By Osarodion Ogbebor Evans and Sheila Brooks__"
   ]
  },
  {
   "cell_type": "markdown",
   "id": "5300640b-682a-46a1-8197-f4537fb5f0b6",
   "metadata": {},
   "source": [
    "## __Executive Summary/Problem Description:__\n",
    "Retinal imaging, the process of taking high-resolution images of the rear inner surface of the eye, is used by ophthalmologists to examine the eyes. Some of the features captured during this process are; the optic nerve, fovea, surrounding vessels, and the retinal layer. (The STARE Project, n.d.)\n",
    "\n",
    "In this project, we will be building on the work done by Michael H. Goldbaum, M.D., Professor of Ophthalmology in Residence, Shiley Eye Institute, and Adam Hoover, Department of Electrical and Computer Engineering, Clemson University, to predict the diagnoses of 400 retinal images.\n"
   ]
  },
  {
   "cell_type": "markdown",
   "id": "5a6bb533-8aac-4d94-90f7-6736f91c6b34",
   "metadata": {},
   "source": [
    "## __Data Sources:__\n",
    "The data for this project is retrieved from the __[STructured Analysis of the Retina](http://cecas.clemson.edu/~ahoover/stare/)__ page on Clemson university’s website. The dataset includes 400 raw retinal images in the portable pixmap format (.ppm) and diagnosis codes in an HTML format\n",
    "\n",
    "These images have been downloaded and are available in the `all_images` folder\n"
   ]
  },
  {
   "cell_type": "markdown",
   "id": "e47490f6-6539-4faf-8fce-88e9f1859f06",
   "metadata": {},
   "source": [
    "### Convert image Files from Portable Pixmap Format (.ppm) to Portable Network Graphics (.jpeg)"
   ]
  },
  {
   "cell_type": "code",
   "execution_count": 3,
   "id": "460affcc-64ef-49b8-85e8-f09bacf469dc",
   "metadata": {},
   "outputs": [],
   "source": [
    "import os\n",
    "import shutil\n",
    "from PIL import Image\n",
    "\n",
    "parent_dir = os.getcwd()\n",
    "# print(parent_dir)\n",
    "jpeg_folder = 'all_imagesjpeg'\n",
    "jpeg_path = os.path.join(parent_dir, jpeg_folder)"
   ]
  },
  {
   "cell_type": "code",
   "execution_count": 4,
   "id": "ad1b84fe-be90-4a4e-8cb5-8a26bf76f7bb",
   "metadata": {},
   "outputs": [],
   "source": [
    "ppm_folder = 'all_images'\n",
    "ppm_path = os.path.join(parent_dir, ppm_folder)\n",
    "ppmImages = os.listdir(parent_dir + '/' + ppm_folder)\n",
    "# print(parent_dir)\n",
    "# print(ppm_path)\n",
    "# print(ppmImages)\n",
    "for image in ppmImages:\n",
    "    # print(image)\n",
    "    split_name = image.split(\".\")\n",
    "    # print(split_name)\n",
    "    jpeg_ext = '/' + split_name[0]+\".jpeg\"\n",
    "    # print(jpeg_ext)\n",
    "    image_path=os.path.join(ppm_path, image)\n",
    "    with Image.open(image_path) as im:\n",
    "        im.save(jpeg_path + jpeg_ext)"
   ]
  }
 ],
 "metadata": {
  "kernelspec": {
   "display_name": "Python [conda env:aap]",
   "language": "python",
   "name": "conda-env-aap-py"
  },
  "language_info": {
   "codemirror_mode": {
    "name": "ipython",
    "version": 3
   },
   "file_extension": ".py",
   "mimetype": "text/x-python",
   "name": "python",
   "nbconvert_exporter": "python",
   "pygments_lexer": "ipython3",
   "version": "3.7.16"
  }
 },
 "nbformat": 4,
 "nbformat_minor": 5
}
